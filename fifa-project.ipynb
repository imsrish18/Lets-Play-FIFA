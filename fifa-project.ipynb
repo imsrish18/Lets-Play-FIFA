{
    "metadata": {
        "kernelspec": {
            "name": "python3",
            "display_name": "Python 3 (ipykernel)",
            "language": "python"
        }
    },
    "nbformat": 4,
    "nbformat_minor": 2,
    "cells": [
        {
            "attachments": {},
            "cell_type": "markdown",
            "metadata": {},
            "source": [
                "### Link to your presentation video here : https://drive.google.com/file/d/1puVmwJ02xYsIwo5AHykA2apSm3p3aqgK/view?usp=drivesdk\n",
                "\n",
                "### Link to your presentation here : https://www.canva.com/design/DAEuOJe6WxI/CtCLL7vjKO9Ll5_MCUSBig/view?utm_content=DAEuOJe6WxI\u0026utm_campaign=designshare\u0026utm_medium=link\u0026utm_source=sharebutton\n",
                ""
            ]
        },
        {
            "attachments": {},
            "cell_type": "markdown",
            "metadata": {},
            "source": [
                "# **Team Members**\n",
                "# Srish Kulkarni, Priyanshu Tanwar,Sai Sindhu Yarlagadda,Sarath Manoj\n",
                "\n",
                "As discussed during office hours, we have uploaded our project as 5 files.\n",
                "As discused on ED post, we have used github to upload files."
            ]
        }
    ]
}
