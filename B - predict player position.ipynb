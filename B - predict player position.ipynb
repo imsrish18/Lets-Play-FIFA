{
    "metadata": {
        "kernelspec": {
            "name": "python3",
            "display_name": "Python 3 (ipykernel)",
            "language": "python"
        }
    },
    "nbformat": 4,
    "nbformat_minor": 0,
    "cells": [
        {
            "attachments": {},
            "cell_type": "markdown",
            "metadata": {},
            "source": [
                "# Ed is having huge issues with running this code while submission. Hence, incase of an issue, please check our collab link :\n",
                " \n",
                "https://colab.research.google.com/drive/1zOkUdRKoxEW_TEZEQq-4rgqv76xGdaZN?usp=sharing"
            ]
        },
        {
            "cell_type": "code",
            "execution_count": 1,
            "metadata": {},
            "outputs": [],
            "source": [
                "import pandas as pd\n",
                "import numpy as np\n",
                "from sklearn.model_selection import cross_validate\n",
                "from sklearn.impute import SimpleImputer\n",
                "from sklearn.model_selection import train_test_split\n",
                "from sklearn.metrics import accuracy_score\n",
                "from sklearn.neighbors import KNeighborsClassifier\n",
                "from sklearn.linear_model import LogisticRegressionCV \n",
                "%matplotlib inline\n",
                "import matplotlib.pyplot as plt"
            ]
        },
        {
            "cell_type": "code",
            "execution_count": 2,
            "metadata": {},
            "outputs": [],
            "source": [
                "#converting csv file into pandas data frame\n",
                "df=pd.read_csv('https://raw.githubusercontent.com/Saraman04/fifa20/main/data/players_19.csv')\n",
                "df_20=pd.read_csv('https://raw.githubusercontent.com/Saraman04/fifa20/main/data/players_20.csv')\n",
                ""
            ]
        },
        {
            "cell_type": "code",
            "execution_count": 3,
            "metadata": {},
            "outputs": [
                {
                    "data": {
                        "text/html": "\u003cdiv\u003e\n\u003cstyle scoped\u003e\n    .dataframe tbody tr th:only-of-type {\n        vertical-align: middle;\n    }\n\n    .dataframe tbody tr th {\n        vertical-align: top;\n    }\n\n    .dataframe thead th {\n        text-align: right;\n    }\n\u003c/style\u003e\n\u003ctable border=\"1\" class=\"dataframe\"\u003e\n  \u003cthead\u003e\n    \u003ctr style=\"text-align: right;\"\u003e\n      \u003cth\u003e\u003c/th\u003e\n      \u003cth\u003esofifa_id\u003c/th\u003e\n      \u003cth\u003eplayer_url\u003c/th\u003e\n      \u003cth\u003eshort_name\u003c/th\u003e\n      \u003cth\u003elong_name\u003c/th\u003e\n      \u003cth\u003eage\u003c/th\u003e\n      \u003cth\u003edob\u003c/th\u003e\n      \u003cth\u003eheight_cm\u003c/th\u003e\n      \u003cth\u003eweight_kg\u003c/th\u003e\n      \u003cth\u003enationality\u003c/th\u003e\n      \u003cth\u003eclub\u003c/th\u003e\n      \u003cth\u003e...\u003c/th\u003e\n      \u003cth\u003elwb\u003c/th\u003e\n      \u003cth\u003eldm\u003c/th\u003e\n      \u003cth\u003ecdm\u003c/th\u003e\n      \u003cth\u003erdm\u003c/th\u003e\n      \u003cth\u003erwb\u003c/th\u003e\n      \u003cth\u003elb\u003c/th\u003e\n      \u003cth\u003elcb\u003c/th\u003e\n      \u003cth\u003ecb\u003c/th\u003e\n      \u003cth\u003ercb\u003c/th\u003e\n      \u003cth\u003erb\u003c/th\u003e\n    \u003c/tr\u003e\n  \u003c/thead\u003e\n  \u003ctbody\u003e\n    \u003ctr\u003e\n      \u003cth\u003e0\u003c/th\u003e\n      \u003ctd\u003e20801\u003c/td\u003e\n      \u003ctd\u003ehttps://sofifa.com/player/20801/c-ronaldo-dos-...\u003c/td\u003e\n      \u003ctd\u003eCristiano Ronaldo\u003c/td\u003e\n      \u003ctd\u003eCristiano Ronaldo dos Santos Aveiro\u003c/td\u003e\n      \u003ctd\u003e33\u003c/td\u003e\n      \u003ctd\u003e1985-02-05\u003c/td\u003e\n      \u003ctd\u003e187\u003c/td\u003e\n      \u003ctd\u003e83\u003c/td\u003e\n      \u003ctd\u003ePortugal\u003c/td\u003e\n      \u003ctd\u003eJuventus\u003c/td\u003e\n      \u003ctd\u003e...\u003c/td\u003e\n      \u003ctd\u003e65+3\u003c/td\u003e\n      \u003ctd\u003e61+3\u003c/td\u003e\n      \u003ctd\u003e61+3\u003c/td\u003e\n      \u003ctd\u003e61+3\u003c/td\u003e\n      \u003ctd\u003e65+3\u003c/td\u003e\n      \u003ctd\u003e61+3\u003c/td\u003e\n      \u003ctd\u003e53+3\u003c/td\u003e\n      \u003ctd\u003e53+3\u003c/td\u003e\n      \u003ctd\u003e53+3\u003c/td\u003e\n      \u003ctd\u003e61+3\u003c/td\u003e\n    \u003c/tr\u003e\n    \u003ctr\u003e\n      \u003cth\u003e1\u003c/th\u003e\n      \u003ctd\u003e158023\u003c/td\u003e\n      \u003ctd\u003ehttps://sofifa.com/player/158023/lionel-messi/...\u003c/td\u003e\n      \u003ctd\u003eL. Messi\u003c/td\u003e\n      \u003ctd\u003eLionel Andrés Messi Cuccittini\u003c/td\u003e\n      \u003ctd\u003e31\u003c/td\u003e\n      \u003ctd\u003e1987-06-24\u003c/td\u003e\n      \u003ctd\u003e170\u003c/td\u003e\n      \u003ctd\u003e72\u003c/td\u003e\n      \u003ctd\u003eArgentina\u003c/td\u003e\n      \u003ctd\u003eFC Barcelona\u003c/td\u003e\n      \u003ctd\u003e...\u003c/td\u003e\n      \u003ctd\u003e63+2\u003c/td\u003e\n      \u003ctd\u003e61+2\u003c/td\u003e\n      \u003ctd\u003e61+2\u003c/td\u003e\n      \u003ctd\u003e61+2\u003c/td\u003e\n      \u003ctd\u003e63+2\u003c/td\u003e\n      \u003ctd\u003e58+2\u003c/td\u003e\n      \u003ctd\u003e47+2\u003c/td\u003e\n      \u003ctd\u003e47+2\u003c/td\u003e\n      \u003ctd\u003e47+2\u003c/td\u003e\n      \u003ctd\u003e58+2\u003c/td\u003e\n    \u003c/tr\u003e\n    \u003ctr\u003e\n      \u003cth\u003e2\u003c/th\u003e\n      \u003ctd\u003e190871\u003c/td\u003e\n      \u003ctd\u003ehttps://sofifa.com/player/190871/neymar-da-sil...\u003c/td\u003e\n      \u003ctd\u003eNeymar Jr\u003c/td\u003e\n      \u003ctd\u003eNeymar da Silva Santos Junior\u003c/td\u003e\n      \u003ctd\u003e26\u003c/td\u003e\n      \u003ctd\u003e1992-02-05\u003c/td\u003e\n      \u003ctd\u003e175\u003c/td\u003e\n      \u003ctd\u003e68\u003c/td\u003e\n      \u003ctd\u003eBrazil\u003c/td\u003e\n      \u003ctd\u003eParis Saint-Germain\u003c/td\u003e\n      \u003ctd\u003e...\u003c/td\u003e\n      \u003ctd\u003e65+3\u003c/td\u003e\n      \u003ctd\u003e60+3\u003c/td\u003e\n      \u003ctd\u003e60+3\u003c/td\u003e\n      \u003ctd\u003e60+3\u003c/td\u003e\n      \u003ctd\u003e65+3\u003c/td\u003e\n      \u003ctd\u003e60+3\u003c/td\u003e\n      \u003ctd\u003e47+3\u003c/td\u003e\n      \u003ctd\u003e47+3\u003c/td\u003e\n      \u003ctd\u003e47+3\u003c/td\u003e\n      \u003ctd\u003e60+3\u003c/td\u003e\n    \u003c/tr\u003e\n    \u003ctr\u003e\n      \u003cth\u003e3\u003c/th\u003e\n      \u003ctd\u003e193080\u003c/td\u003e\n      \u003ctd\u003ehttps://sofifa.com/player/193080/david-de-gea-...\u003c/td\u003e\n      \u003ctd\u003eDe Gea\u003c/td\u003e\n      \u003ctd\u003eDavid De Gea Quintana\u003c/td\u003e\n      \u003ctd\u003e27\u003c/td\u003e\n      \u003ctd\u003e1990-11-07\u003c/td\u003e\n      \u003ctd\u003e193\u003c/td\u003e\n      \u003ctd\u003e76\u003c/td\u003e\n      \u003ctd\u003eSpain\u003c/td\u003e\n      \u003ctd\u003eManchester United\u003c/td\u003e\n      \u003ctd\u003e...\u003c/td\u003e\n      \u003ctd\u003eNaN\u003c/td\u003e\n      \u003ctd\u003eNaN\u003c/td\u003e\n      \u003ctd\u003eNaN\u003c/td\u003e\n      \u003ctd\u003eNaN\u003c/td\u003e\n      \u003ctd\u003eNaN\u003c/td\u003e\n      \u003ctd\u003eNaN\u003c/td\u003e\n      \u003ctd\u003eNaN\u003c/td\u003e\n      \u003ctd\u003eNaN\u003c/td\u003e\n      \u003ctd\u003eNaN\u003c/td\u003e\n      \u003ctd\u003eNaN\u003c/td\u003e\n    \u003c/tr\u003e\n    \u003ctr\u003e\n      \u003cth\u003e4\u003c/th\u003e\n      \u003ctd\u003e192985\u003c/td\u003e\n      \u003ctd\u003ehttps://sofifa.com/player/192985/kevin-de-bruy...\u003c/td\u003e\n      \u003ctd\u003eK. De Bruyne\u003c/td\u003e\n      \u003ctd\u003eKevin De Bruyne\u003c/td\u003e\n      \u003ctd\u003e27\u003c/td\u003e\n      \u003ctd\u003e1991-06-28\u003c/td\u003e\n      \u003ctd\u003e181\u003c/td\u003e\n      \u003ctd\u003e70\u003c/td\u003e\n      \u003ctd\u003eBelgium\u003c/td\u003e\n      \u003ctd\u003eManchester City\u003c/td\u003e\n      \u003ctd\u003e...\u003c/td\u003e\n      \u003ctd\u003e77+3\u003c/td\u003e\n      \u003ctd\u003e77+3\u003c/td\u003e\n      \u003ctd\u003e77+3\u003c/td\u003e\n      \u003ctd\u003e77+3\u003c/td\u003e\n      \u003ctd\u003e77+3\u003c/td\u003e\n      \u003ctd\u003e73+3\u003c/td\u003e\n      \u003ctd\u003e66+3\u003c/td\u003e\n      \u003ctd\u003e66+3\u003c/td\u003e\n      \u003ctd\u003e66+3\u003c/td\u003e\n      \u003ctd\u003e73+3\u003c/td\u003e\n    \u003c/tr\u003e\n  \u003c/tbody\u003e\n\u003c/table\u003e\n\u003cp\u003e5 rows × 104 columns\u003c/p\u003e\n\u003c/div\u003e",
                        "text/plain": "   sofifa_id                                         player_url  \\\n0      20801  https://sofifa.com/player/20801/c-ronaldo-dos-...   \n1     158023  https://sofifa.com/player/158023/lionel-messi/...   \n2     190871  https://sofifa.com/player/190871/neymar-da-sil...   \n3     193080  https://sofifa.com/player/193080/david-de-gea-...   \n4     192985  https://sofifa.com/player/192985/kevin-de-bruy...   \n\n          short_name                            long_name  age         dob  \\\n0  Cristiano Ronaldo  Cristiano Ronaldo dos Santos Aveiro   33  1985-02-05   \n1           L. Messi       Lionel Andrés Messi Cuccittini   31  1987-06-24   \n2          Neymar Jr        Neymar da Silva Santos Junior   26  1992-02-05   \n3             De Gea                David De Gea Quintana   27  1990-11-07   \n4       K. De Bruyne                      Kevin De Bruyne   27  1991-06-28   \n\n   height_cm  weight_kg nationality                 club  ...   lwb   ldm  \\\n0        187         83    Portugal             Juventus  ...  65+3  61+3   \n1        170         72   Argentina         FC Barcelona  ...  63+2  61+2   \n2        175         68      Brazil  Paris Saint-Germain  ...  65+3  60+3   \n3        193         76       Spain    Manchester United  ...   NaN   NaN   \n4        181         70     Belgium      Manchester City  ...  77+3  77+3   \n\n    cdm   rdm   rwb    lb   lcb    cb   rcb    rb  \n0  61+3  61+3  65+3  61+3  53+3  53+3  53+3  61+3  \n1  61+2  61+2  63+2  58+2  47+2  47+2  47+2  58+2  \n2  60+3  60+3  65+3  60+3  47+3  47+3  47+3  60+3  \n3   NaN   NaN   NaN   NaN   NaN   NaN   NaN   NaN  \n4  77+3  77+3  77+3  73+3  66+3  66+3  66+3  73+3  \n\n[5 rows x 104 columns]"
                    },
                    "execution_count": 3,
                    "metadata": {},
                    "output_type": "execute_result"
                }
            ],
            "source": [
                "#looking into data set\n",
                "df.head()"
            ]
        },
        {
            "cell_type": "code",
            "execution_count": 4,
            "metadata": {},
            "outputs": [
                {
                    "name": "stdout",
                    "output_type": "stream",
                    "text": "\u003cclass 'pandas.core.frame.DataFrame'\u003e\nRangeIndex: 17770 entries, 0 to 17769\nColumns: 104 entries, sofifa_id to rb\ndtypes: float64(16), int64(11), object(77)\nmemory usage: 14.1+ MB\n"
                }
            ],
            "source": [
                "#Information about the data frame\n",
                "df.info()"
            ]
        },
        {
            "cell_type": "code",
            "execution_count": 5,
            "metadata": {},
            "outputs": [
                {
                    "data": {
                        "text/html": "\u003cdiv\u003e\n\u003cstyle scoped\u003e\n    .dataframe tbody tr th:only-of-type {\n        vertical-align: middle;\n    }\n\n    .dataframe tbody tr th {\n        vertical-align: top;\n    }\n\n    .dataframe thead th {\n        text-align: right;\n    }\n\u003c/style\u003e\n\u003ctable border=\"1\" class=\"dataframe\"\u003e\n  \u003cthead\u003e\n    \u003ctr style=\"text-align: right;\"\u003e\n      \u003cth\u003e\u003c/th\u003e\n      \u003cth\u003esofifa_id\u003c/th\u003e\n      \u003cth\u003eage\u003c/th\u003e\n      \u003cth\u003eheight_cm\u003c/th\u003e\n      \u003cth\u003eweight_kg\u003c/th\u003e\n      \u003cth\u003eoverall\u003c/th\u003e\n      \u003cth\u003epotential\u003c/th\u003e\n      \u003cth\u003evalue_eur\u003c/th\u003e\n      \u003cth\u003ewage_eur\u003c/th\u003e\n      \u003cth\u003einternational_reputation\u003c/th\u003e\n      \u003cth\u003eweak_foot\u003c/th\u003e\n      \u003cth\u003e...\u003c/th\u003e\n      \u003cth\u003epassing\u003c/th\u003e\n      \u003cth\u003edribbling\u003c/th\u003e\n      \u003cth\u003edefending\u003c/th\u003e\n      \u003cth\u003ephysic\u003c/th\u003e\n      \u003cth\u003egk_diving\u003c/th\u003e\n      \u003cth\u003egk_handling\u003c/th\u003e\n      \u003cth\u003egk_kicking\u003c/th\u003e\n      \u003cth\u003egk_reflexes\u003c/th\u003e\n      \u003cth\u003egk_speed\u003c/th\u003e\n      \u003cth\u003egk_positioning\u003c/th\u003e\n    \u003c/tr\u003e\n  \u003c/thead\u003e\n  \u003ctbody\u003e\n    \u003ctr\u003e\n      \u003cth\u003ecount\u003c/th\u003e\n      \u003ctd\u003e17770.000000\u003c/td\u003e\n      \u003ctd\u003e17770.000000\u003c/td\u003e\n      \u003ctd\u003e17770.000000\u003c/td\u003e\n      \u003ctd\u003e17770.000000\u003c/td\u003e\n      \u003ctd\u003e17770.000000\u003c/td\u003e\n      \u003ctd\u003e17770.000000\u003c/td\u003e\n      \u003ctd\u003e1.777000e+04\u003c/td\u003e\n      \u003ctd\u003e17770.000000\u003c/td\u003e\n      \u003ctd\u003e17770.000000\u003c/td\u003e\n      \u003ctd\u003e17770.000000\u003c/td\u003e\n      \u003ctd\u003e...\u003c/td\u003e\n      \u003ctd\u003e15784.000000\u003c/td\u003e\n      \u003ctd\u003e15784.000000\u003c/td\u003e\n      \u003ctd\u003e15784.000000\u003c/td\u003e\n      \u003ctd\u003e15784.000000\u003c/td\u003e\n      \u003ctd\u003e1986.000000\u003c/td\u003e\n      \u003ctd\u003e1986.000000\u003c/td\u003e\n      \u003ctd\u003e1986.000000\u003c/td\u003e\n      \u003ctd\u003e1986.000000\u003c/td\u003e\n      \u003ctd\u003e1986.000000\u003c/td\u003e\n      \u003ctd\u003e1986.000000\u003c/td\u003e\n    \u003c/tr\u003e\n    \u003ctr\u003e\n      \u003cth\u003emean\u003c/th\u003e\n      \u003ctd\u003e213797.776308\u003c/td\u003e\n      \u003ctd\u003e25.193922\u003c/td\u003e\n      \u003ctd\u003e181.253292\u003c/td\u003e\n      \u003ctd\u003e75.310917\u003c/td\u003e\n      \u003ctd\u003e66.240405\u003c/td\u003e\n      \u003ctd\u003e71.382949\u003c/td\u003e\n      \u003ctd\u003e2.440756e+06\u003c/td\u003e\n      \u003ctd\u003e9956.162071\u003c/td\u003e\n      \u003ctd\u003e1.117783\u003c/td\u003e\n      \u003ctd\u003e2.946427\u003c/td\u003e\n      \u003ctd\u003e...\u003c/td\u003e\n      \u003ctd\u003e57.082172\u003c/td\u003e\n      \u003ctd\u003e62.267169\u003c/td\u003e\n      \u003ctd\u003e51.665484\u003c/td\u003e\n      \u003ctd\u003e64.972567\u003c/td\u003e\n      \u003ctd\u003e65.374622\u003c/td\u003e\n      \u003ctd\u003e62.931017\u003c/td\u003e\n      \u003ctd\u003e61.511078\u003c/td\u003e\n      \u003ctd\u003e66.149043\u003c/td\u003e\n      \u003ctd\u003e38.675730\u003c/td\u003e\n      \u003ctd\u003e63.088117\u003c/td\u003e\n    \u003c/tr\u003e\n    \u003ctr\u003e\n      \u003cth\u003estd\u003c/th\u003e\n      \u003ctd\u003e29955.746535\u003c/td\u003e\n      \u003ctd\u003e4.651957\u003c/td\u003e\n      \u003ctd\u003e6.745892\u003c/td\u003e\n      \u003ctd\u003e7.080013\u003c/td\u003e\n      \u003ctd\u003e6.994104\u003c/td\u003e\n      \u003ctd\u003e6.145171\u003c/td\u003e\n      \u003ctd\u003e5.644779e+06\u003c/td\u003e\n      \u003ctd\u003e22330.640048\u003c/td\u003e\n      \u003ctd\u003e0.401085\u003c/td\u003e\n      \u003ctd\u003e0.659353\u003c/td\u003e\n      \u003ctd\u003e...\u003c/td\u003e\n      \u003ctd\u003e10.589207\u003c/td\u003e\n      \u003ctd\u003e10.442659\u003c/td\u003e\n      \u003ctd\u003e16.347564\u003c/td\u003e\n      \u003ctd\u003e9.745859\u003c/td\u003e\n      \u003ctd\u003e7.807033\u003c/td\u003e\n      \u003ctd\u003e7.556389\u003c/td\u003e\n      \u003ctd\u003e7.667533\u003c/td\u003e\n      \u003ctd\u003e8.234898\u003c/td\u003e\n      \u003ctd\u003e10.420846\u003c/td\u003e\n      \u003ctd\u003e8.664458\u003c/td\u003e\n    \u003c/tr\u003e\n    \u003ctr\u003e\n      \u003cth\u003emin\u003c/th\u003e\n      \u003ctd\u003e164.000000\u003c/td\u003e\n      \u003ctd\u003e16.000000\u003c/td\u003e\n      \u003ctd\u003e154.000000\u003c/td\u003e\n      \u003ctd\u003e50.000000\u003c/td\u003e\n      \u003ctd\u003e47.000000\u003c/td\u003e\n      \u003ctd\u003e48.000000\u003c/td\u003e\n      \u003ctd\u003e0.000000e+00\u003c/td\u003e\n      \u003ctd\u003e0.000000\u003c/td\u003e\n      \u003ctd\u003e1.000000\u003c/td\u003e\n      \u003ctd\u003e1.000000\u003c/td\u003e\n      \u003ctd\u003e...\u003c/td\u003e\n      \u003ctd\u003e24.000000\u003c/td\u003e\n      \u003ctd\u003e23.000000\u003c/td\u003e\n      \u003ctd\u003e15.000000\u003c/td\u003e\n      \u003ctd\u003e30.000000\u003c/td\u003e\n      \u003ctd\u003e45.000000\u003c/td\u003e\n      \u003ctd\u003e43.000000\u003c/td\u003e\n      \u003ctd\u003e35.000000\u003c/td\u003e\n      \u003ctd\u003e44.000000\u003c/td\u003e\n      \u003ctd\u003e12.000000\u003c/td\u003e\n      \u003ctd\u003e38.000000\u003c/td\u003e\n    \u003c/tr\u003e\n    \u003ctr\u003e\n      \u003cth\u003e25%\u003c/th\u003e\n      \u003ctd\u003e199803.000000\u003c/td\u003e\n      \u003ctd\u003e21.000000\u003c/td\u003e\n      \u003ctd\u003e176.000000\u003c/td\u003e\n      \u003ctd\u003e70.000000\u003c/td\u003e\n      \u003ctd\u003e62.000000\u003c/td\u003e\n      \u003ctd\u003e67.000000\u003c/td\u003e\n      \u003ctd\u003e3.000000e+05\u003c/td\u003e\n      \u003ctd\u003e1000.000000\u003c/td\u003e\n      \u003ctd\u003e1.000000\u003c/td\u003e\n      \u003ctd\u003e3.000000\u003c/td\u003e\n      \u003ctd\u003e...\u003c/td\u003e\n      \u003ctd\u003e50.000000\u003c/td\u003e\n      \u003ctd\u003e57.000000\u003c/td\u003e\n      \u003ctd\u003e37.000000\u003c/td\u003e\n      \u003ctd\u003e59.000000\u003c/td\u003e\n      \u003ctd\u003e60.000000\u003c/td\u003e\n      \u003ctd\u003e58.000000\u003c/td\u003e\n      \u003ctd\u003e56.000000\u003c/td\u003e\n      \u003ctd\u003e60.000000\u003c/td\u003e\n      \u003ctd\u003e30.000000\u003c/td\u003e\n      \u003ctd\u003e57.000000\u003c/td\u003e\n    \u003c/tr\u003e\n    \u003ctr\u003e\n      \u003cth\u003e50%\u003c/th\u003e\n      \u003ctd\u003e221350.500000\u003c/td\u003e\n      \u003ctd\u003e25.000000\u003c/td\u003e\n      \u003ctd\u003e181.000000\u003c/td\u003e\n      \u003ctd\u003e75.000000\u003c/td\u003e\n      \u003ctd\u003e66.000000\u003c/td\u003e\n      \u003ctd\u003e71.000000\u003c/td\u003e\n      \u003ctd\u003e6.750000e+05\u003c/td\u003e\n      \u003ctd\u003e3000.000000\u003c/td\u003e\n      \u003ctd\u003e1.000000\u003c/td\u003e\n      \u003ctd\u003e3.000000\u003c/td\u003e\n      \u003ctd\u003e...\u003c/td\u003e\n      \u003ctd\u003e58.000000\u003c/td\u003e\n      \u003ctd\u003e64.000000\u003c/td\u003e\n      \u003ctd\u003e56.000000\u003c/td\u003e\n      \u003ctd\u003e66.000000\u003c/td\u003e\n      \u003ctd\u003e65.000000\u003c/td\u003e\n      \u003ctd\u003e63.000000\u003c/td\u003e\n      \u003ctd\u003e61.000000\u003c/td\u003e\n      \u003ctd\u003e66.000000\u003c/td\u003e\n      \u003ctd\u003e40.000000\u003c/td\u003e\n      \u003ctd\u003e63.000000\u003c/td\u003e\n    \u003c/tr\u003e\n    \u003ctr\u003e\n      \u003cth\u003e75%\u003c/th\u003e\n      \u003ctd\u003e235967.750000\u003c/td\u003e\n      \u003ctd\u003e28.000000\u003c/td\u003e\n      \u003ctd\u003e186.000000\u003c/td\u003e\n      \u003ctd\u003e80.000000\u003c/td\u003e\n      \u003ctd\u003e71.000000\u003c/td\u003e\n      \u003ctd\u003e75.000000\u003c/td\u003e\n      \u003ctd\u003e2.000000e+06\u003c/td\u003e\n      \u003ctd\u003e9000.000000\u003c/td\u003e\n      \u003ctd\u003e1.000000\u003c/td\u003e\n      \u003ctd\u003e3.000000\u003c/td\u003e\n      \u003ctd\u003e...\u003c/td\u003e\n      \u003ctd\u003e64.000000\u003c/td\u003e\n      \u003ctd\u003e69.000000\u003c/td\u003e\n      \u003ctd\u003e65.000000\u003c/td\u003e\n      \u003ctd\u003e72.000000\u003c/td\u003e\n      \u003ctd\u003e71.000000\u003c/td\u003e\n      \u003ctd\u003e68.000000\u003c/td\u003e\n      \u003ctd\u003e66.000000\u003c/td\u003e\n      \u003ctd\u003e72.000000\u003c/td\u003e\n      \u003ctd\u003e46.000000\u003c/td\u003e\n      \u003ctd\u003e69.000000\u003c/td\u003e\n    \u003c/tr\u003e\n    \u003ctr\u003e\n      \u003cth\u003emax\u003c/th\u003e\n      \u003ctd\u003e246063.000000\u003c/td\u003e\n      \u003ctd\u003e45.000000\u003c/td\u003e\n      \u003ctd\u003e205.000000\u003c/td\u003e\n      \u003ctd\u003e110.000000\u003c/td\u003e\n      \u003ctd\u003e94.000000\u003c/td\u003e\n      \u003ctd\u003e95.000000\u003c/td\u003e\n      \u003ctd\u003e1.185000e+08\u003c/td\u003e\n      \u003ctd\u003e565000.000000\u003c/td\u003e\n      \u003ctd\u003e5.000000\u003c/td\u003e\n      \u003ctd\u003e5.000000\u003c/td\u003e\n      \u003ctd\u003e...\u003c/td\u003e\n      \u003ctd\u003e92.000000\u003c/td\u003e\n      \u003ctd\u003e96.000000\u003c/td\u003e\n      \u003ctd\u003e91.000000\u003c/td\u003e\n      \u003ctd\u003e89.000000\u003c/td\u003e\n      \u003ctd\u003e91.000000\u003c/td\u003e\n      \u003ctd\u003e92.000000\u003c/td\u003e\n      \u003ctd\u003e91.000000\u003c/td\u003e\n      \u003ctd\u003e94.000000\u003c/td\u003e\n      \u003ctd\u003e65.000000\u003c/td\u003e\n      \u003ctd\u003e90.000000\u003c/td\u003e\n    \u003c/tr\u003e\n  \u003c/tbody\u003e\n\u003c/table\u003e\n\u003cp\u003e8 rows × 27 columns\u003c/p\u003e\n\u003c/div\u003e",
                        "text/plain": "           sofifa_id           age     height_cm     weight_kg       overall  \\\ncount   17770.000000  17770.000000  17770.000000  17770.000000  17770.000000   \nmean   213797.776308     25.193922    181.253292     75.310917     66.240405   \nstd     29955.746535      4.651957      6.745892      7.080013      6.994104   \nmin       164.000000     16.000000    154.000000     50.000000     47.000000   \n25%    199803.000000     21.000000    176.000000     70.000000     62.000000   \n50%    221350.500000     25.000000    181.000000     75.000000     66.000000   \n75%    235967.750000     28.000000    186.000000     80.000000     71.000000   \nmax    246063.000000     45.000000    205.000000    110.000000     94.000000   \n\n          potential     value_eur       wage_eur  international_reputation  \\\ncount  17770.000000  1.777000e+04   17770.000000              17770.000000   \nmean      71.382949  2.440756e+06    9956.162071                  1.117783   \nstd        6.145171  5.644779e+06   22330.640048                  0.401085   \nmin       48.000000  0.000000e+00       0.000000                  1.000000   \n25%       67.000000  3.000000e+05    1000.000000                  1.000000   \n50%       71.000000  6.750000e+05    3000.000000                  1.000000   \n75%       75.000000  2.000000e+06    9000.000000                  1.000000   \nmax       95.000000  1.185000e+08  565000.000000                  5.000000   \n\n          weak_foot  ...       passing     dribbling     defending  \\\ncount  17770.000000  ...  15784.000000  15784.000000  15784.000000   \nmean       2.946427  ...     57.082172     62.267169     51.665484   \nstd        0.659353  ...     10.589207     10.442659     16.347564   \nmin        1.000000  ...     24.000000     23.000000     15.000000   \n25%        3.000000  ...     50.000000     57.000000     37.000000   \n50%        3.000000  ...     58.000000     64.000000     56.000000   \n75%        3.000000  ...     64.000000     69.000000     65.000000   \nmax        5.000000  ...     92.000000     96.000000     91.000000   \n\n             physic    gk_diving  gk_handling   gk_kicking  gk_reflexes  \\\ncount  15784.000000  1986.000000  1986.000000  1986.000000  1986.000000   \nmean      64.972567    65.374622    62.931017    61.511078    66.149043   \nstd        9.745859     7.807033     7.556389     7.667533     8.234898   \nmin       30.000000    45.000000    43.000000    35.000000    44.000000   \n25%       59.000000    60.000000    58.000000    56.000000    60.000000   \n50%       66.000000    65.000000    63.000000    61.000000    66.000000   \n75%       72.000000    71.000000    68.000000    66.000000    72.000000   \nmax       89.000000    91.000000    92.000000    91.000000    94.000000   \n\n          gk_speed  gk_positioning  \ncount  1986.000000     1986.000000  \nmean     38.675730       63.088117  \nstd      10.420846        8.664458  \nmin      12.000000       38.000000  \n25%      30.000000       57.000000  \n50%      40.000000       63.000000  \n75%      46.000000       69.000000  \nmax      65.000000       90.000000  \n\n[8 rows x 27 columns]"
                    },
                    "execution_count": 5,
                    "metadata": {},
                    "output_type": "execute_result"
                }
            ],
            "source": [
                "df.describe()"
            ]
        },
        {
            "cell_type": "code",
            "execution_count": 6,
            "metadata": {},
            "outputs": [
                {
                    "data": {
                        "text/plain": "['sofifa_id',\n 'player_url',\n 'short_name',\n 'long_name',\n 'age',\n 'dob',\n 'height_cm',\n 'weight_kg',\n 'nationality',\n 'club',\n 'overall',\n 'potential',\n 'value_eur',\n 'wage_eur',\n 'player_positions',\n 'preferred_foot',\n 'international_reputation',\n 'weak_foot',\n 'skill_moves',\n 'work_rate',\n 'body_type',\n 'real_face',\n 'release_clause_eur',\n 'player_tags',\n 'team_position',\n 'team_jersey_number',\n 'loaned_from',\n 'joined',\n 'contract_valid_until',\n 'nation_position',\n 'nation_jersey_number',\n 'pace',\n 'shooting',\n 'passing',\n 'dribbling',\n 'defending',\n 'physic',\n 'gk_diving',\n 'gk_handling',\n 'gk_kicking',\n 'gk_reflexes',\n 'gk_speed',\n 'gk_positioning',\n 'player_traits',\n 'attacking_crossing',\n 'attacking_finishing',\n 'attacking_heading_accuracy',\n 'attacking_short_passing',\n 'attacking_volleys',\n 'skill_dribbling',\n 'skill_curve',\n 'skill_fk_accuracy',\n 'skill_long_passing',\n 'skill_ball_control',\n 'movement_acceleration',\n 'movement_sprint_speed',\n 'movement_agility',\n 'movement_reactions',\n 'movement_balance',\n 'power_shot_power',\n 'power_jumping',\n 'power_stamina',\n 'power_strength',\n 'power_long_shots',\n 'mentality_aggression',\n 'mentality_interceptions',\n 'mentality_positioning',\n 'mentality_vision',\n 'mentality_penalties',\n 'mentality_composure',\n 'defending_marking',\n 'defending_standing_tackle',\n 'defending_sliding_tackle',\n 'goalkeeping_diving',\n 'goalkeeping_handling',\n 'goalkeeping_kicking',\n 'goalkeeping_positioning',\n 'goalkeeping_reflexes',\n 'ls',\n 'st',\n 'rs',\n 'lw',\n 'lf',\n 'cf',\n 'rf',\n 'rw',\n 'lam',\n 'cam',\n 'ram',\n 'lm',\n 'lcm',\n 'cm',\n 'rcm',\n 'rm',\n 'lwb',\n 'ldm',\n 'cdm',\n 'rdm',\n 'rwb',\n 'lb',\n 'lcb',\n 'cb',\n 'rcb',\n 'rb']"
                    },
                    "execution_count": 6,
                    "metadata": {},
                    "output_type": "execute_result"
                }
            ],
            "source": [
                "#reading columns to a list\n",
                "cols=df.columns.to_list()\n",
                "cols"
            ]
        },
        {
            "attachments": {},
            "cell_type": "markdown",
            "metadata": {},
            "source": [
                "selecting columns that are useful,Picking up columns that matter ie skills and body type. leaving the data leakage columns such as scoring in the specific player positions."
            ]
        },
        {
            "cell_type": "code",
            "execution_count": 7,
            "metadata": {},
            "outputs": [],
            "source": [
                "use_cols=['age','height_cm','weight_kg','preferred_foot','pace','shooting','passing','dribbling','defending','physic','gk_diving','gk_handling','gk_kicking',\n",
                "'gk_reflexes','gk_speed','gk_positioning','attacking_crossing',\n",
                "'attacking_finishing',\n",
                "'attacking_heading_accuracy',\n",
                "'attacking_short_passing',\n",
                "'attacking_volleys',\n",
                "'skill_dribbling',\n",
                "'skill_curve',\n",
                "'skill_fk_accuracy',\n",
                "'skill_long_passing',\n",
                "'skill_ball_control',\n",
                "'movement_acceleration',\n",
                "'movement_sprint_speed',\n",
                "'movement_agility',\n",
                "'movement_reactions',\n",
                "'movement_balance',\n",
                "'power_shot_power',\n",
                "'power_jumping',\n",
                "'power_stamina',\n",
                "'power_strength',\n",
                "'power_long_shots',\n",
                "'mentality_aggression',\n",
                "'mentality_interceptions',\n",
                "'mentality_positioning',\n",
                "'mentality_vision',\n",
                "'mentality_penalties',\n",
                "'mentality_composure',\n",
                "'defending_marking',\n",
                "'defending_standing_tackle',\n",
                "'defending_sliding_tackle',\n",
                "'goalkeeping_diving',\n",
                "'goalkeeping_handling',\n",
                "'goalkeeping_kicking',\n",
                "'goalkeeping_positioning',\n",
                "'goalkeeping_reflexes']\n",
                " "
            ]
        },
        {
            "cell_type": "code",
            "execution_count": 8,
            "metadata": {},
            "outputs": [],
            "source": [
                "#preprocessing string variable into categorical numerical\n",
                "df.loc[df['preferred_foot'] == 'Left', 'preferred_foot'] = 1\n",
                "df.loc[df['preferred_foot'] == 'Right', 'preferred_foot'] = 0\n",
                "#test set\n",
                "df_20.loc[df_20['preferred_foot'] == 'Left', 'preferred_foot'] = 1\n",
                "df_20.loc[df_20['preferred_foot'] == 'Right', 'preferred_foot'] = 0"
            ]
        },
        {
            "attachments": {},
            "cell_type": "markdown",
            "metadata": {},
            "source": [
                "Pre-processing the player positions for easier classification"
            ]
        },
        {
            "cell_type": "code",
            "execution_count": 9,
            "metadata": {},
            "outputs": [],
            "source": [
                "def combine_positions(row):\n",
                "    # There are 15 different positions\n",
                "    positions = row['player_positions'].split(', ') \n",
                "    N = len(positions)\n",
                "    if N \u003c 3:\n",
                "        # If a player has two positions the first one will be considered as their\n",
                "        # position, of course, players with only one position won't be affected\n",
                "        position = positions[0]\n",
                "        if position in ['ST', 'LW', 'RW','CF']: #4\n",
                "            return 0 #ATTACKER\n",
                "        elif position in ['CAM', 'LM', 'CM', 'RM', 'CDM']: #5\n",
                "            return 1 #MIDFIELDER\n",
                "        elif position in ['LWB', 'RWB', 'LB', 'CB', 'RB']: #5\n",
                "            return 2 #DEFENDER\n",
                "        elif position in ['GK']: #1\n",
                "            return 3 #GOALKEEPER\n",
                "    else: # If player has three possible positions\n",
                "        position_count = [0, 0, 0, 0] \n",
                "        for position in positions:\n",
                "            if position in ['ST', 'LW', 'RW','CF']: #4\n",
                "                index = 0 #ATTACKER\n",
                "            elif position in ['CAM', 'LM', 'CM', 'RM', 'CDM']: #5\n",
                "                index = 1 #MIDFIELDER\n",
                "            elif position in ['LWB', 'RWB', 'LB', 'CB', 'RB']: #5\n",
                "                index = 2 #DEFENDER\n",
                "            elif position in ['GK']: #1\n",
                "                index = 3 #GOALKEEPER\n",
                "            else:\n",
                "                continue \n",
                "            position_count[index] += 1 \n",
                "        # This will count which was the most repeated position and assign it\n",
                "        # to the player\n",
                "        return position_count.index(max(position_count))\n",
                "\n",
                "df['player_positions'] = df.apply(combine_positions, axis=1)#for train\n",
                "df_20['player_positions'] = df_20.apply(combine_positions, axis=1)"
            ]
        },
        {
            "cell_type": "code",
            "execution_count": 10,
            "metadata": {},
            "outputs": [],
            "source": [
                "df.loc[df['player_positions'] == 0, 'player_positions'] = 'Attacker'\n",
                "df.loc[df['player_positions'] == 1, 'player_positions'] = 'Midfielder'\n",
                "df.loc[df['player_positions'] == 2, 'player_positions'] = 'defender'\n",
                "df.loc[df['player_positions'] == 3, 'player_positions'] = 'goal_keeper'\n",
                "#for test set\n",
                "df_20.loc[df_20['player_positions'] == 0, 'player_positions'] = 'Attacker'\n",
                "df_20.loc[df_20['player_positions'] == 1, 'player_positions'] = 'Midfielder'\n",
                "df_20.loc[df_20['player_positions'] == 2, 'player_positions'] = 'defender'\n",
                "df_20.loc[df_20['player_positions'] == 3, 'player_positions'] = 'goal_keeper'"
            ]
        },
        {
            "cell_type": "code",
            "execution_count": 11,
            "metadata": {},
            "outputs": [
                {
                    "data": {
                        "text/plain": "0           Attacker\n1           Attacker\n2           Attacker\n3        goal_keeper\n4         Midfielder\n            ...     \n17765     Midfielder\n17766       Attacker\n17767     Midfielder\n17768       defender\n17769     Midfielder\nName: player_positions, Length: 17770, dtype: object"
                    },
                    "execution_count": 11,
                    "metadata": {},
                    "output_type": "execute_result"
                }
            ],
            "source": [
                "df['player_positions']"
            ]
        },
        {
            "attachments": {},
            "cell_type": "markdown",
            "metadata": {},
            "source": [
                "filling zero for skilll values that are unavailable since some skills are exclusive to some positions. Filling with zero makes sense because the skill is not present with the player."
            ]
        },
        {
            "cell_type": "code",
            "execution_count": 12,
            "metadata": {},
            "outputs": [],
            "source": [
                "#for train set\n",
                "for col in use_cols:\n",
                "  imp_constant = SimpleImputer(missing_values=np.nan, strategy='constant',fill_value=0)\n",
                "  imp_constant.fit(df[col].values.reshape(1,-1))\n",
                "  SimpleImputer()\n",
                "  \n",
                "  X = df[col].values.reshape(1,-1)\n",
                "  col_new=imp_constant.fit_transform(X)\n",
                "  df[col]=col_new.reshape(len(col_new[0]),)\n",
                "\n",
                "# for test set\n",
                "\n",
                "for col in use_cols:\n",
                "  imp_constant = SimpleImputer(missing_values=np.nan, strategy='constant',fill_value=0)\n",
                "  imp_constant.fit(df_20[col].values.reshape(1,-1))\n",
                "  SimpleImputer()\n",
                "  \n",
                "  X = df_20[col].values.reshape(1,-1)\n",
                "  col_new=imp_constant.fit_transform(X)\n",
                "  df_20[col]=col_new.reshape(len(col_new[0]),)\n",
                "  \n",
                ""
            ]
        },
        {
            "attachments": {},
            "cell_type": "markdown",
            "metadata": {},
            "source": [
                "Some values in the columns we want to select are in the form of mathematical expression to convert them into string"
            ]
        },
        {
            "cell_type": "code",
            "execution_count": 13,
            "metadata": {},
            "outputs": [],
            "source": [
                "new_df=df[use_cols]\n",
                "new_df_20=df_20[use_cols]\n",
                "def try_eval(x):\n",
                "    \"\"\"Converts to float64 else returns as it is\"\"\"\n",
                "    try:\n",
                "        return eval(x)\n",
                "    except:\n",
                "        return x\n",
                "\n",
                "#train set\n",
                "new_df=new_df.applymap(try_eval)\n",
                "#test set\n",
                "new_df_20=new_df_20.applymap(try_eval)"
            ]
        },
        {
            "cell_type": "code",
            "execution_count": 14,
            "metadata": {},
            "outputs": [],
            "source": [
                "#preparing new_df to use as predictor matrix\n",
                "\n",
                "X = new_df\n",
                "y = df.player_positions\n",
                "\n",
                ""
            ]
        },
        {
            "attachments": {},
            "cell_type": "markdown",
            "metadata": {},
            "source": [
                "KNN classification"
            ]
        },
        {
            "cell_type": "code",
            "execution_count": 15,
            "metadata": {},
            "outputs": [],
            "source": [
                "knn_dict_test={}\n",
                "knn_dict_train={}\n",
                "for k_value in range(1,50):\n",
                "\n",
                "    # Split the data to 80-20\n",
                "    X_train,X_test,y_train,y_test = train_test_split(X,y,test_size=0.2, stratify=y)\n",
                "\n",
                "    # KNN Classifier\n",
                "    model = KNeighborsClassifier(n_neighbors=k_value)\n",
                "    \n",
                "    # Fit the model on the train data\n",
                "    model.fit(X_train,y_train)\n",
                "    \n",
                "    # Use the trained model to predict on the test data\n",
                "    y_pred_test = model.predict(X_test)\n",
                "    y_pred_train=model.predict(X_train)\n",
                "\n",
                "    # Calculate the accuracy of the test data predictions\n",
                "    \n",
                "    accuracy_train = accuracy_score(y_train, y_pred_train)\n",
                "    accuracy_test = accuracy_score(y_test, y_pred_test)\n",
                "\n",
                "    # Store the accuracy values of each k value in the dictionary\n",
                "    knn_dict_test[k_value] = accuracy_test\n",
                "    knn_dict_train[k_value] = accuracy_train\n",
                ""
            ]
        },
        {
            "cell_type": "code",
            "execution_count": 63,
            "metadata": {},
            "outputs": [
                {
                    "data": {
                        "text/plain": [
                            "Int64Index([37, 48, 42, 29, 34, 36, 30, 28, 25, 13], dtype='int64')"
                        ]
                    },
                    "execution_count": 63,
                    "metadata": {},
                    "output_type": "execute_result"
                }
            ],
            "source": [
                "#sorting knn_dictionary to get best K value\n",
                "accuracy_test=list(knn_dict_test.values())\n",
                "df_y_graph=pd.DataFrame(accuracy_test)\n",
                "df_y_graph.columns=['accuracy']\n",
                "best_k = df_y_graph.sort_values(by='accuracy',ascending=False)\n",
                "best_k=best_k.index\n",
                "best_k[:10]"
            ]
        },
        {
            "cell_type": "code",
            "execution_count": 64,
            "metadata": {},
            "outputs": [],
            "source": [
                "#Since cross validating all k-values is computationally expensive we selected first 10 best ones from KNN"
            ]
        },
        {
            "cell_type": "code",
            "execution_count": 68,
            "metadata": {},
            "outputs": [],
            "source": [
                "best_KNN=best_k[:10]"
            ]
        },
        {
            "cell_type": "code",
            "execution_count": 12,
            "metadata": {},
            "outputs": [
                {
                    "ename": "NameError",
                    "evalue": "name 'knn_dict_train' is not defined",
                    "output_type": "error",
                    "traceback": [
                        "\u001b[0;31m---------------------------------------------------------------------------\u001b[0m",
                        "\u001b[0;31mNameError\u001b[0m                                 Traceback (most recent call last)",
                        "\u001b[0;32m/tmp/ipykernel_48/1766059615.py\u001b[0m in \u001b[0;36m\u003cmodule\u003e\u001b[0;34m\u001b[0m\n\u001b[0;32m----\u003e 1\u001b[0;31m \u001b[0maccuracy_train\u001b[0m\u001b[0;34m=\u001b[0m\u001b[0mlist\u001b[0m\u001b[0;34m(\u001b[0m\u001b[0mknn_dict_train\u001b[0m\u001b[0;34m.\u001b[0m\u001b[0mvalues\u001b[0m\u001b[0;34m(\u001b[0m\u001b[0;34m)\u001b[0m\u001b[0;34m)\u001b[0m\u001b[0;34m\u001b[0m\u001b[0;34m\u001b[0m\u001b[0m\n\u001b[0m\u001b[1;32m      2\u001b[0m \u001b[0;34m\u001b[0m\u001b[0m\n\u001b[1;32m      3\u001b[0m \u001b[0;31m# Plot the errors as a function of increasing d value to visualise the training and validation errors\u001b[0m\u001b[0;34m\u001b[0m\u001b[0;34m\u001b[0m\u001b[0m\n\u001b[1;32m      4\u001b[0m \u001b[0mfig\u001b[0m\u001b[0;34m,\u001b[0m \u001b[0max\u001b[0m \u001b[0;34m=\u001b[0m \u001b[0mplt\u001b[0m\u001b[0;34m.\u001b[0m\u001b[0msubplots\u001b[0m\u001b[0;34m(\u001b[0m\u001b[0mfigsize\u001b[0m\u001b[0;34m=\u001b[0m\u001b[0;34m(\u001b[0m\u001b[0;36m16\u001b[0m\u001b[0;34m,\u001b[0m\u001b[0;36m8\u001b[0m\u001b[0;34m)\u001b[0m\u001b[0;34m)\u001b[0m\u001b[0;34m\u001b[0m\u001b[0;34m\u001b[0m\u001b[0m\n\u001b[1;32m      5\u001b[0m \u001b[0;34m\u001b[0m\u001b[0m\n",
                        "\u001b[0;31mNameError\u001b[0m: name 'knn_dict_train' is not defined"
                    ]
                }
            ],
            "source": [
                "\n",
                "\n",
                "accuracy_train=list(knn_dict_train.values())\n",
                "\n",
                "# Plot the errors as a function of increasing d value to visualise the training and validation errors\n",
                "fig, ax = plt.subplots(figsize=(16,8))\n",
                "\n",
                "# Plot the validation error with labels\n",
                "ax.plot(range(1,50), accuracy_test, label = 'Validation error', linewidth=3, color='#FF7E79', alpha=0.4)\n",
                "\n",
                " #Plot the training error with labels\n",
                "ax.plot(range(1,50), accuracy_train, label = 'Training error', linewidth=3, color=\"#007D66\", alpha=0.4)\n",
                "\n",
                "# Plot the training error with labels\n",
                "#ax[1].plot(range(maxdeg), np.log(training_error), label = 'Training error', linewidth=3, color='#FF7E79', alpha=0.4)\n",
                "\n",
                "# Plot the cross-validation error with labels\n",
                "#ax[1].plot(range(maxdeg), np.log(cross_validation_error), label = 'Cross-Validation error', linewidth=3, color=\"#007D66\", alpha=0.4)\n",
                "\n",
                "# Set the plot labels and legends\n",
                "ax.set_xlabel('K_value', fontsize=12)\n",
                "ax.set_ylabel('Accuracy score', fontsize=12)\n",
                "ax.set_title(\"Accuracy score with respect to k_value\")\n",
                "\n",
                "\n",
                "\n",
                "ax.legend()\n",
                "\n",
                "\n",
                "\n",
                ""
            ]
        },
        {
            "attachments": {},
            "cell_type": "markdown",
            "metadata": {},
            "source": [
                "Calculating cross validation score for top 10 KNN K- Value"
            ]
        },
        {
            "cell_type": "code",
            "execution_count": 67,
            "metadata": {},
            "outputs": [],
            "source": [
                "\n",
                "cross_validation_accuracy=[]\n",
                "for k_value in best_KNN :\n",
                "    \n",
                "    model = KNeighborsClassifier(n_neighbors=k_value+1)\n",
                "    X_train,X_test,y_train,y_test = train_test_split(X,y,test_size=0.2, stratify=y)\n",
                "    accuracy = cross_validate(model,X,y,scoring=\"accuracy\",cv=5,return_train_score=False)\n",
                "    accuracy_mean=np.mean(abs(accuracy['test_score']))\n",
                "    # Compute the mean of the cross validation error and store in list \n",
                " \n",
                "    cross_validation_accuracy.append(accuracy_mean)\n",
                "\n",
                "    \n",
                "\n",
                "\n",
                ""
            ]
        },
        {
            "cell_type": "code",
            "execution_count": 70,
            "metadata": {},
            "outputs": [
                {
                    "data": {
                        "text/plain": [
                            "[0.8642656162070906,\n",
                            " 0.8652222847495779,\n",
                            " 0.8652222847495779,\n",
                            " 0.8654473832301631,\n",
                            " 0.8648846370287,\n",
                            " 0.8647720877884074,\n",
                            " 0.865616207090602,\n",
                            " 0.8653348339898705,\n",
                            " 0.8651660101294316,\n",
                            " 0.8613956105796288]"
                        ]
                    },
                    "execution_count": 70,
                    "metadata": {},
                    "output_type": "execute_result"
                }
            ],
            "source": [
                "cross_validation_accuracy"
            ]
        },
        {
            "cell_type": "code",
            "execution_count": 71,
            "metadata": {},
            "outputs": [],
            "source": [
                "best_KNN_cv=best_KNN[cross_validation_accuracy.index(max(cross_validation_accuracy))]+1"
            ]
        },
        {
            "attachments": {},
            "cell_type": "markdown",
            "metadata": {},
            "source": [
                "Best KNN from KNN and from cross validation is varying for each iteration"
            ]
        },
        {
            "attachments": {},
            "cell_type": "markdown",
            "metadata": {},
            "source": [
                "cross validation and validation best K-value has nt changed but cross validation gave a better estimate of accuracy because test set accuracy was 2 points more in normal knn rather in cross validation for k=43 which could be because of data specific result. Still since the data is big enough, the best k values didnt change much for validation and cross validation."
            ]
        },
        {
            "cell_type": "code",
            "execution_count": 72,
            "metadata": {},
            "outputs": [
                {
                    "name": "stdout",
                    "output_type": "stream",
                    "text": "Model: Best KNN Classification 31:\nTest  Accuracy using cross validation 86.56 %\n"
                }
            ],
            "source": [
                "print(f\"Model: Best KNN Classification {best_KNN_cv}:\")\n",
                "\n",
                "print(f\"Test  Accuracy using cross validation {max(cross_validation_accuracy)*100:.2f} %\")"
            ]
        },
        {
            "cell_type": "code",
            "execution_count": 13,
            "metadata": {},
            "outputs": [
                {
                    "name": "stderr",
                    "output_type": "stream",
                    "text": "/usr/lib/python3.9/site-packages/sklearn/linear_model/_logistic.py:814: ConvergenceWarning: lbfgs failed to converge (status=1):\nSTOP: TOTAL NO. of ITERATIONS REACHED LIMIT.\n\nIncrease the number of iterations (max_iter) or scale the data as shown in:\n    https://scikit-learn.org/stable/modules/preprocessing.html\nPlease also refer to the documentation for alternative solver options:\n    https://scikit-learn.org/stable/modules/linear_model.html#logistic-regression\n  n_iter_i = _check_optimize_result(\n/usr/lib/python3.9/site-packages/sklearn/linear_model/_logistic.py:814: ConvergenceWarning: lbfgs failed to converge (status=1):\nSTOP: TOTAL NO. of ITERATIONS REACHED LIMIT.\n\nIncrease the number of iterations (max_iter) or scale the data as shown in:\n    https://scikit-learn.org/stable/modules/preprocessing.html\nPlease also refer to the documentation for alternative solver options:\n    https://scikit-learn.org/stable/modules/linear_model.html#logistic-regression\n  n_iter_i = _check_optimize_result(\n/usr/lib/python3.9/site-packages/sklearn/linear_model/_logistic.py:814: ConvergenceWarning: lbfgs failed to converge (status=1):\nSTOP: TOTAL NO. of ITERATIONS REACHED LIMIT.\n\nIncrease the number of iterations (max_iter) or scale the data as shown in:\n    https://scikit-learn.org/stable/modules/preprocessing.html\nPlease also refer to the documentation for alternative solver options:\n    https://scikit-learn.org/stable/modules/linear_model.html#logistic-regression\n  n_iter_i = _check_optimize_result(\n/usr/lib/python3.9/site-packages/sklearn/linear_model/_logistic.py:814: ConvergenceWarning: lbfgs failed to converge (status=1):\nSTOP: TOTAL NO. of ITERATIONS REACHED LIMIT.\n\nIncrease the number of iterations (max_iter) or scale the data as shown in:\n    https://scikit-learn.org/stable/modules/preprocessing.html\nPlease also refer to the documentation for alternative solver options:\n    https://scikit-learn.org/stable/modules/linear_model.html#logistic-regression\n  n_iter_i = _check_optimize_result(\n/usr/lib/python3.9/site-packages/sklearn/linear_model/_logistic.py:814: ConvergenceWarning: lbfgs failed to converge (status=1):\nSTOP: TOTAL NO. of ITERATIONS REACHED LIMIT.\n\nIncrease the number of iterations (max_iter) or scale the data as shown in:\n    https://scikit-learn.org/stable/modules/preprocessing.html\nPlease also refer to the documentation for alternative solver options:\n    https://scikit-learn.org/stable/modules/linear_model.html#logistic-regression\n  n_iter_i = _check_optimize_result(\n/usr/lib/python3.9/site-packages/sklearn/linear_model/_logistic.py:814: ConvergenceWarning: lbfgs failed to converge (status=1):\nSTOP: TOTAL NO. of ITERATIONS REACHED LIMIT.\n\nIncrease the number of iterations (max_iter) or scale the data as shown in:\n    https://scikit-learn.org/stable/modules/preprocessing.html\nPlease also refer to the documentation for alternative solver options:\n    https://scikit-learn.org/stable/modules/linear_model.html#logistic-regression\n  n_iter_i = _check_optimize_result(\n"
                },
                {
                    "name": "stdout",
                    "output_type": "stream",
                    "text": "Model: Logistic Regression\nTrain Accuracy 88.77 %\nTest  Accuracy 88.72 %\n"
                }
            ],
            "source": [
                "#Logistic Regression\n",
                "\n",
                "\n",
                "log_reg = LogisticRegressionCV(n_jobs=-1)\n",
                "X_train,X_test,y_train,y_test = train_test_split(X,y,test_size=0.2, stratify=y)\n",
                "log_reg.fit(X_train, y_train)\n",
                "y_test_pred_lr = log_reg.predict(X_test)\n",
                "y_train_pred_lr = log_reg.predict(X_train)\n",
                "\n",
                "#return_accuracy --\u003e Returns accuracy score, When y_pred has more than one correct answer\n",
                "test_accuracy_lr = accuracy_score(y_test, y_test_pred_lr)\n",
                "train_accuracy_lr = accuracy_score(y_train, y_train_pred_lr)\n",
                "\n",
                "print(\"Model: Logistic Regression\")\n",
                "print(f\"Train Accuracy {train_accuracy_lr*100:.2f} %\")\n",
                "print(f\"Test  Accuracy {test_accuracy_lr*100:.2f} %\")"
            ]
        },
        {
            "attachments": {},
            "cell_type": "markdown",
            "metadata": {},
            "source": [
                "Over the iterations while comparing logistic regression and KNN there is a little bit of difference and many times logistic regression is giving accuracy of 1 point more than KNN"
            ]
        },
        {
            "attachments": {},
            "cell_type": "markdown",
            "metadata": {},
            "source": [
                "Test set according to the problem statement"
            ]
        },
        {
            "cell_type": "code",
            "execution_count": 14,
            "metadata": {},
            "outputs": [],
            "source": [
                "#Predictor Matrix from 2020 data set and selected clubs\n",
                "\n",
                "df_test=new_df_20.loc[df_20['club'].isin(['FC Barcelona','FC Bayern München','Real Madrid','Paris Saint-Germain','Juventus','Atlético Madrid','Manchester City','Liverpool','Manchester United'])]\n",
                "\n",
                "# response variable from 2020 data set and selected clubs\n",
                "df_test_y=df_20.loc[df_20['club'].isin(['FC Barcelona','FC Bayern München','Real Madrid','Paris Saint-Germain','Juventus','Atlético Madrid','Manchester City','Liverpool','Manchester United'])].player_positions"
            ]
        },
        {
            "cell_type": "code",
            "execution_count": 81,
            "metadata": {},
            "outputs": [
                {
                    "data": {
                        "text/plain": [
                            "(287,)"
                        ]
                    },
                    "execution_count": 81,
                    "metadata": {},
                    "output_type": "execute_result"
                }
            ],
            "source": [
                "df_test_y.shape"
            ]
        },
        {
            "cell_type": "code",
            "execution_count": 22,
            "metadata": {},
            "outputs": [],
            "source": [
                "X_test_club = df_test\n",
                "y_test_club = df_test_y"
            ]
        },
        {
            "attachments": {},
            "cell_type": "markdown",
            "metadata": {},
            "source": [
                "Implementing Best KNN on test data from 2020 data set"
            ]
        },
        {
            "cell_type": "code",
            "execution_count": 16,
            "metadata": {},
            "outputs": [
                {
                    "ename": "NameError",
                    "evalue": "name 'best_KNN_cv' is not defined",
                    "output_type": "error",
                    "traceback": [
                        "\u001b[0;31m---------------------------------------------------------------------------\u001b[0m",
                        "\u001b[0;31mNameError\u001b[0m                                 Traceback (most recent call last)",
                        "\u001b[0;32m/tmp/ipykernel_53/3640125250.py\u001b[0m in \u001b[0;36m\u003cmodule\u003e\u001b[0;34m\u001b[0m\n\u001b[1;32m      1\u001b[0m \u001b[0;31m#training whole 2019 data on KNN best K_value and testing on 2020 test set\u001b[0m\u001b[0;34m\u001b[0m\u001b[0;34m\u001b[0m\u001b[0m\n\u001b[0;32m----\u003e 2\u001b[0;31m \u001b[0mmodel\u001b[0m \u001b[0;34m=\u001b[0m \u001b[0mKNeighborsClassifier\u001b[0m\u001b[0;34m(\u001b[0m\u001b[0mn_neighbors\u001b[0m\u001b[0;34m=\u001b[0m\u001b[0mbest_KNN_cv\u001b[0m\u001b[0;34m)\u001b[0m\u001b[0;34m\u001b[0m\u001b[0;34m\u001b[0m\u001b[0m\n\u001b[0m\u001b[1;32m      3\u001b[0m \u001b[0;34m\u001b[0m\u001b[0m\n\u001b[1;32m      4\u001b[0m \u001b[0mmodel\u001b[0m\u001b[0;34m.\u001b[0m\u001b[0mfit\u001b[0m\u001b[0;34m(\u001b[0m\u001b[0mX\u001b[0m\u001b[0;34m,\u001b[0m\u001b[0my\u001b[0m\u001b[0;34m)\u001b[0m\u001b[0;34m\u001b[0m\u001b[0;34m\u001b[0m\u001b[0m\n\u001b[1;32m      5\u001b[0m \u001b[0my_pred_test_club\u001b[0m\u001b[0;34m=\u001b[0m\u001b[0mmodel\u001b[0m\u001b[0;34m.\u001b[0m\u001b[0mpredict\u001b[0m\u001b[0;34m(\u001b[0m\u001b[0mX_test_club\u001b[0m\u001b[0;34m)\u001b[0m\u001b[0;34m\u001b[0m\u001b[0;34m\u001b[0m\u001b[0m\n",
                        "\u001b[0;31mNameError\u001b[0m: name 'best_KNN_cv' is not defined"
                    ]
                }
            ],
            "source": [
                "#training whole 2019 data on KNN best K_value and testing on 2020 test set \n",
                "model = KNeighborsClassifier(n_neighbors=best_KNN_cv)\n",
                "\n",
                "model.fit(X,y)\n",
                "y_pred_test_club=model.predict(X_test_club)\n",
                "test_accuracy = accuracy_score(y_test_club, y_pred_test_club)\n",
                "\n",
                "print(f\"Model: Best KNN Classificationwith K_value {best_KNN_cv}\")\n",
                "\n",
                "print(f\"Test  Accuracy {test_accuracy*100:.2f} %\")"
            ]
        },
        {
            "attachments": {},
            "cell_type": "markdown",
            "metadata": {},
            "source": [
                "Implementing Logistic Regression on 2020 Test data set"
            ]
        },
        {
            "cell_type": "code",
            "execution_count": 16,
            "metadata": {},
            "outputs": [
                {
                    "name": "stderr",
                    "output_type": "stream",
                    "text": "/usr/lib/python3.9/site-packages/sklearn/linear_model/_logistic.py:814: ConvergenceWarning: lbfgs failed to converge (status=1):\nSTOP: TOTAL NO. of ITERATIONS REACHED LIMIT.\n\nIncrease the number of iterations (max_iter) or scale the data as shown in:\n    https://scikit-learn.org/stable/modules/preprocessing.html\nPlease also refer to the documentation for alternative solver options:\n    https://scikit-learn.org/stable/modules/linear_model.html#logistic-regression\n  n_iter_i = _check_optimize_result(\n/usr/lib/python3.9/site-packages/sklearn/linear_model/_logistic.py:814: ConvergenceWarning: lbfgs failed to converge (status=1):\nSTOP: TOTAL NO. of ITERATIONS REACHED LIMIT.\n\nIncrease the number of iterations (max_iter) or scale the data as shown in:\n    https://scikit-learn.org/stable/modules/preprocessing.html\nPlease also refer to the documentation for alternative solver options:\n    https://scikit-learn.org/stable/modules/linear_model.html#logistic-regression\n  n_iter_i = _check_optimize_result(\n/usr/lib/python3.9/site-packages/sklearn/linear_model/_logistic.py:814: ConvergenceWarning: lbfgs failed to converge (status=1):\nSTOP: TOTAL NO. of ITERATIONS REACHED LIMIT.\n\nIncrease the number of iterations (max_iter) or scale the data as shown in:\n    https://scikit-learn.org/stable/modules/preprocessing.html\nPlease also refer to the documentation for alternative solver options:\n    https://scikit-learn.org/stable/modules/linear_model.html#logistic-regression\n  n_iter_i = _check_optimize_result(\n/usr/lib/python3.9/site-packages/sklearn/linear_model/_logistic.py:814: ConvergenceWarning: lbfgs failed to converge (status=1):\nSTOP: TOTAL NO. of ITERATIONS REACHED LIMIT.\n\nIncrease the number of iterations (max_iter) or scale the data as shown in:\n    https://scikit-learn.org/stable/modules/preprocessing.html\nPlease also refer to the documentation for alternative solver options:\n    https://scikit-learn.org/stable/modules/linear_model.html#logistic-regression\n  n_iter_i = _check_optimize_result(\n/usr/lib/python3.9/site-packages/sklearn/linear_model/_logistic.py:814: ConvergenceWarning: lbfgs failed to converge (status=1):\nSTOP: TOTAL NO. of ITERATIONS REACHED LIMIT.\n\nIncrease the number of iterations (max_iter) or scale the data as shown in:\n    https://scikit-learn.org/stable/modules/preprocessing.html\nPlease also refer to the documentation for alternative solver options:\n    https://scikit-learn.org/stable/modules/linear_model.html#logistic-regression\n  n_iter_i = _check_optimize_result(\n/usr/lib/python3.9/site-packages/sklearn/linear_model/_logistic.py:814: ConvergenceWarning: lbfgs failed to converge (status=1):\nSTOP: TOTAL NO. of ITERATIONS REACHED LIMIT.\n\nIncrease the number of iterations (max_iter) or scale the data as shown in:\n    https://scikit-learn.org/stable/modules/preprocessing.html\nPlease also refer to the documentation for alternative solver options:\n    https://scikit-learn.org/stable/modules/linear_model.html#logistic-regression\n  n_iter_i = _check_optimize_result(\n"
                }
            ],
            "source": [
                "#training whole 2019 data on KNN best K_value and testing on 2020 test set \n",
                "log_reg = LogisticRegressionCV(n_jobs=-1)\n",
                "log_reg.fit(X, y)\n",
                "y_test_pred_lr = log_reg.predict(X_test_club)\n",
                "\n",
                "\n",
                "#Returns accuracy score, When y_pred has more than one correct answer\n",
                "test_accuracy_lr = accuracy_score(y_test_club, y_test_pred_lr)\n",
                ""
            ]
        },
        {
            "cell_type": "code",
            "execution_count": 86,
            "metadata": {},
            "outputs": [
                {
                    "name": "stdout",
                    "output_type": "stream",
                    "text": "Test  Accuracy 87.11 %\n"
                }
            ],
            "source": [
                "print(f\"Test  Accuracy {test_accuracy_lr*100:.2f} %\")"
            ]
        },
        {
            "attachments": {},
            "cell_type": "markdown",
            "metadata": {},
            "source": [
                "Some times logistic gives better accuracy and sometimes KNN gives better accuracy"
            ]
        },
        {
            "attachments": {},
            "cell_type": "markdown",
            "metadata": {},
            "source": [
                "Player positions predicted by logistic regression"
            ]
        },
        {
            "cell_type": "code",
            "execution_count": 29,
            "metadata": {},
            "outputs": [
                {
                    "data": {
                        "image/png": "[encoded data removed]",
                        "text/plain": "\u003cFigure size 864x576 with 1 Axes\u003e"
                    },
                    "metadata": {
                        "needs_background": "light"
                    },
                    "output_type": "display_data"
                }
            ],
            "source": [
                "\n",
                "\n",
                "#Make a scatter plot\n",
                "\n",
                "plt.figure(figsize=(12,8))\n",
                "plt.scatter(range(len(y_test_pred_lr)),y_test_club, label = 'True data')\n",
                "plt.scatter(range(len(y_test_pred_lr)),y_test_pred_lr , label = 'Predicted data',alpha = 0.5)\n",
                "\n",
                "plt.title('Logistic regression : Predicted vs True data on test set')\n",
                "plt.xlabel('List of players')\n",
                "plt.ylabel('Position of a player')\n",
                "plt.legend()\n",
                "plt.show()"
            ]
        },
        {
            "attachments": {},
            "cell_type": "markdown",
            "metadata": {},
            "source": [
                "Player positions predicted by KNN"
            ]
        },
        {
            "cell_type": "code",
            "execution_count": 30,
            "metadata": {},
            "outputs": [
                {
                    "data": {
                        "text/plain": "\u003cFigure size 864x576 with 0 Axes\u003e"
                    },
                    "metadata": {},
                    "output_type": "display_data"
                },
                {
                    "ename": "NameError",
                    "evalue": "name 'y_pred_test_club' is not defined",
                    "output_type": "error",
                    "traceback": [
                        "\u001b[0;31m---------------------------------------------------------------------------\u001b[0m",
                        "\u001b[0;31mNameError\u001b[0m                                 Traceback (most recent call last)",
                        "\u001b[0;32m/tmp/ipykernel_48/2860551098.py\u001b[0m in \u001b[0;36m\u003cmodule\u003e\u001b[0;34m\u001b[0m\n\u001b[1;32m      2\u001b[0m \u001b[0;34m\u001b[0m\u001b[0m\n\u001b[1;32m      3\u001b[0m \u001b[0mplt\u001b[0m\u001b[0;34m.\u001b[0m\u001b[0mfigure\u001b[0m\u001b[0;34m(\u001b[0m\u001b[0mfigsize\u001b[0m\u001b[0;34m=\u001b[0m\u001b[0;34m(\u001b[0m\u001b[0;36m12\u001b[0m\u001b[0;34m,\u001b[0m\u001b[0;36m8\u001b[0m\u001b[0;34m)\u001b[0m\u001b[0;34m)\u001b[0m\u001b[0;34m\u001b[0m\u001b[0;34m\u001b[0m\u001b[0m\n\u001b[0;32m----\u003e 4\u001b[0;31m \u001b[0mplt\u001b[0m\u001b[0;34m.\u001b[0m\u001b[0mscatter\u001b[0m\u001b[0;34m(\u001b[0m\u001b[0mrange\u001b[0m\u001b[0;34m(\u001b[0m\u001b[0mlen\u001b[0m\u001b[0;34m(\u001b[0m\u001b[0my_pred_test_club\u001b[0m\u001b[0;34m)\u001b[0m\u001b[0;34m)\u001b[0m\u001b[0;34m,\u001b[0m\u001b[0my_pred_test_club\u001b[0m\u001b[0;34m,\u001b[0m \u001b[0mlabel\u001b[0m \u001b[0;34m=\u001b[0m \u001b[0;34m'True data'\u001b[0m\u001b[0;34m)\u001b[0m\u001b[0;34m\u001b[0m\u001b[0;34m\u001b[0m\u001b[0m\n\u001b[0m\u001b[1;32m      5\u001b[0m \u001b[0mplt\u001b[0m\u001b[0;34m.\u001b[0m\u001b[0mscatter\u001b[0m\u001b[0;34m(\u001b[0m\u001b[0mrange\u001b[0m\u001b[0;34m(\u001b[0m\u001b[0mlen\u001b[0m\u001b[0;34m(\u001b[0m\u001b[0my_pred_test_club\u001b[0m\u001b[0;34m)\u001b[0m\u001b[0;34m)\u001b[0m\u001b[0;34m,\u001b[0m\u001b[0my_pred_test_club\u001b[0m \u001b[0;34m,\u001b[0m \u001b[0mlabel\u001b[0m \u001b[0;34m=\u001b[0m \u001b[0;34m'Predicted data'\u001b[0m\u001b[0;34m,\u001b[0m\u001b[0malpha\u001b[0m \u001b[0;34m=\u001b[0m \u001b[0;36m0.5\u001b[0m\u001b[0;34m)\u001b[0m\u001b[0;34m\u001b[0m\u001b[0;34m\u001b[0m\u001b[0m\n\u001b[1;32m      6\u001b[0m \u001b[0;34m\u001b[0m\u001b[0m\n",
                        "\u001b[0;31mNameError\u001b[0m: name 'y_pred_test_club' is not defined"
                    ]
                }
            ],
            "source": [
                "\n",
                "\n",
                "#Make a scatter plot\n",
                "\n",
                "plt.figure(figsize=(12,8))\n",
                "plt.scatter(range(len(y_pred_test_club)),y_pred_test_club, label = 'True data')\n",
                "plt.scatter(range(len(y_pred_test_club)),y_pred_test_club , label = 'Predicted data',alpha = 0.5)\n",
                "\n",
                "plt.title('Logistic regression : Predicted vs True data on test set')\n",
                "plt.xlabel('List of players')\n",
                "plt.ylabel('Position of a player')\n",
                "plt.legend()\n",
                "plt.show()"
            ]
        },
        {
            "cell_type": "code",
            "execution_count": 0,
            "metadata": {},
            "outputs": [],
            "source": [
                ""
            ]
        }
    ]
}
